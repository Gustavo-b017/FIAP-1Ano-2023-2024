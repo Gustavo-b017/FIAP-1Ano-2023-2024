{
 "cells": [
  {
   "cell_type": "markdown",
   "metadata": {},
   "source": [
    "# Abordagem 1"
   ]
  },
  {
   "cell_type": "code",
   "execution_count": 6,
   "metadata": {},
   "outputs": [
    {
     "name": "stdout",
     "output_type": "stream",
     "text": [
      "O preço a pagar é: R$ 650.00\n"
     ]
    }
   ],
   "source": [
    "# Está é uma solução mais simples, na qual verifica apenas se o usuário digitou R, I ou C\n",
    "# e retorna o custo da energia em função do respectivo consumo de energia elétrica.\n",
    "\n",
    "consumo = float(input(\"Digite valor da energia consumida em kWh \"))\n",
    "tipo_instalacao = input(\"Digite o tipo de instalação R, C ou I: \").lower()\n",
    "\n",
    "if tipo_instalacao == 'R':\n",
    "    if consumo <= 500:\n",
    "        preco = consumo * 0.5\n",
    "    else:\n",
    "        preco = consumo * 0.75\n",
    "\n",
    "elif tipo_instalacao == 'C':\n",
    "    if consumo <= 1000:\n",
    "        preco = consumo * 0.65\n",
    "    else:\n",
    "        preco = consumo * 0.7\n",
    "\n",
    "elif tipo_instalacao == 'I':\n",
    "    if consumo <= 5000:\n",
    "        preco = consumo * 0.65\n",
    "    else:\n",
    "        preco = consumo * 0.7\n",
    "    \n",
    "else:\n",
    "    print(\"Insira uma opção válida!\")\n",
    "print(f\"Instalação inválida {preco}\")"
   ]
  },
  {
   "cell_type": "markdown",
   "metadata": {},
   "source": [
    "# Abordagem 2"
   ]
  },
  {
   "cell_type": "code",
   "execution_count": 1,
   "metadata": {},
   "outputs": [
    {
     "name": "stdout",
     "output_type": "stream",
     "text": [
      "O preço a pagar é: R$ 250.0\n"
     ]
    }
   ],
   "source": [
    "# Está é uma abordagem na qual verifica se atende a condição do tipo de instalação R ou Residencial \n",
    "# e verifica qual o consumo de energia elétrica dado pelo usuário.\n",
    "\n",
    "consumo = float(input(\"Digite valor da energia consumida em kWh \"))\n",
    "tipo_instalacao = input(\"Digite o tipo de instalação R, C ou I: \").lower()\n",
    "\n",
    "if tipo_instalacao == 'r' or tipo_instalacao == 'residencial':\n",
    "    if consumo <= 500:\n",
    "        preco = consumo * 0.5\n",
    "    else:\n",
    "        preco = consumo * 0.75\n",
    "\n",
    "elif tipo_instalacao == 'c' or tipo_instalacao == 'comercial':\n",
    "    if consumo <= 1000:\n",
    "        preco = consumo * 0.65\n",
    "    else:\n",
    "        preco = consumo * 0.7\n",
    "\n",
    "elif tipo_instalacao == 'i' or tipo_instalacao == 'industrial':\n",
    "    if consumo <= 5000:\n",
    "        preco = consumo * 0.65\n",
    "    else:\n",
    "        preco = consumo * 0.7\n",
    "    \n",
    "else:\n",
    "    print(\"Instalação inválida!\")\n",
    "\n",
    "print(f\"O valor a ser pago é R$ {preco}\")"
   ]
  },
  {
   "cell_type": "markdown",
   "metadata": {},
   "source": [
    "# Abordagem 3"
   ]
  },
  {
   "cell_type": "code",
   "execution_count": 2,
   "metadata": {},
   "outputs": [
    {
     "name": "stdout",
     "output_type": "stream",
     "text": [
      "O valor a ser pago é R$ 325.0\n"
     ]
    }
   ],
   "source": [
    "# Está é uma abordagem mais sofisticada, pois verifica se tipo de instalação está na lista.\n",
    "# Repare que tipo de instalação é verificado se está na lista tipo e se o tipo de instalação r, residencial, \n",
    "# i, industrial, c, comercial estão na lista.\n",
    "\n",
    "consumo = float(input(\"Digite valor da energia consumida em kWh: \"))\n",
    "tipo_instalacao = input(\"Digite o tipo de instalação R, C ou I: \").lower()\n",
    "\n",
    "tipos_permitidos = ['r', 'i', 'c', 'residencial', 'industrial', 'comercial']\n",
    "\n",
    "for tipo in tipos_permitidos:\n",
    "    if tipo_instalacao == tipo:\n",
    "        if tipo_instalacao in ['r', 'residencial']:\n",
    "            if consumo <= 500:\n",
    "                preco = consumo * 0.5\n",
    "            else:\n",
    "                preco = consumo * 0.75\n",
    "        \n",
    "        elif tipo_instalacao in ['c', 'comercial']:\n",
    "            if consumo <= 500:\n",
    "                preco = consumo * 0.65\n",
    "            else:\n",
    "                preco = consumo * 0.7  \n",
    "        \n",
    "        elif tipo_instalacao in ['i', 'industrial']:\n",
    "            if consumo <= 500:\n",
    "                preco = consumo * 0.65\n",
    "            else:\n",
    "                preco = consumo * 0.7\n",
    "\n",
    "        print(f\"O valor a ser pago é R$ {preco}\")\n",
    "        break\n",
    "else:\n",
    "    print(\"Instalação inválida!\")"
   ]
  },
  {
   "cell_type": "markdown",
   "metadata": {},
   "source": [
    "# Abordagem 4"
   ]
  },
  {
   "cell_type": "code",
   "execution_count": 10,
   "metadata": {},
   "outputs": [
    {
     "name": "stdout",
     "output_type": "stream",
     "text": [
      "O valor a ser pago é R$ 650.0\n"
     ]
    }
   ],
   "source": [
    "tipo = {\n",
    "    'residencial': '1', 'r': '1', \n",
    "    'industrial': '2', 'i': '2', \n",
    "    'comercial': '3', 'c': '3', \n",
    "}\n",
    "\n",
    "consumo = float(input(\"Digite valor da energia consumida em kWh: \"))\n",
    "tipo_instalacao = input(\"Digite o tipo de instalação \").lower()\n",
    "\n",
    "numero_instalacao = tipo.get(tipo_instalacao)\n",
    "\n",
    "if numero_instalacao:\n",
    "    if numero_instalacao == '1':\n",
    "        if consumo <= 500:\n",
    "            preco = consumo * 0.5\n",
    "        else:\n",
    "            preco = consumo * 0.75\n",
    "    elif numero_instalacao == '2':\n",
    "        if consumo <= 1000:\n",
    "            preco = consumo * 0.65\n",
    "        else:\n",
    "            preco = consumo * 0.7\n",
    "    elif numero_instalacao == '3':\n",
    "        if consumo <= 5000:\n",
    "            preco = consumo * 0.65\n",
    "        else:\n",
    "            preco = consumo * 0.7\n",
    "\n",
    "    print(f\"O valor a ser pago é R$ {preco}\")\n",
    "else:\n",
    "    print(\"Instalação inválida!\")\n"
   ]
  }
 ],
 "metadata": {
  "kernelspec": {
   "display_name": "Python 3",
   "language": "python",
   "name": "python3"
  },
  "language_info": {
   "codemirror_mode": {
    "name": "ipython",
    "version": 3
   },
   "file_extension": ".py",
   "mimetype": "text/x-python",
   "name": "python",
   "nbconvert_exporter": "python",
   "pygments_lexer": "ipython3",
   "version": "3.10.5"
  },
  "orig_nbformat": 4
 },
 "nbformat": 4,
 "nbformat_minor": 2
}
