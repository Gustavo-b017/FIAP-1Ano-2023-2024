{
 "cells": [
  {
   "cell_type": "code",
   "execution_count": 9,
   "metadata": {},
   "outputs": [
    {
     "name": "stdout",
     "output_type": "stream",
     "text": [
      "Note: you may need to restart the kernel to use updated packages.Collecting pandas\n",
      "  Downloading pandas-2.2.1-cp311-cp311-win_amd64.whl (11.6 MB)\n",
      "                                              0.0/11.6 MB ? eta -:--:--\n",
      "     --                                       0.6/11.6 MB 20.1 MB/s eta 0:00:01\n",
      "     -------                                  2.1/11.6 MB 22.0 MB/s eta 0:00:01\n",
      "     -------                                  2.3/11.6 MB 21.0 MB/s eta 0:00:01\n",
      "     -------                                  2.3/11.6 MB 21.0 MB/s eta 0:00:01\n",
      "     -------                                  2.3/11.6 MB 21.0 MB/s eta 0:00:01\n",
      "     -------                                  2.3/11.6 MB 21.0 MB/s eta 0:00:01\n",
      "     -------                                  2.3/11.6 MB 21.0 MB/s eta 0:00:01\n",
      "     -------                                  2.3/11.6 MB 21.0 MB/s eta 0:00:01\n",
      "     -------                                  2.3/11.6 MB 21.0 MB/s eta 0:00:01\n",
      "     -------                                  2.3/11.6 MB 21.0 MB/s eta 0:00:01\n",
      "     -------                                  2.3/11.6 MB 21.0 MB/s eta 0:00:01\n",
      "     -------                                  2.3/11.6 MB 21.0 MB/s eta 0:00:01\n",
      "     -------                                  2.3/11.6 MB 21.0 MB/s eta 0:00:01\n",
      "     -------                                  2.3/11.6 MB 21.0 MB/s eta 0:00:01\n",
      "     -------                                  2.3/11.6 MB 21.0 MB/s eta 0:00:01\n",
      "     -------                                  2.3/11.6 MB 21.0 MB/s eta 0:00:01\n",
      "     -------                                  2.3/11.6 MB 21.0 MB/s eta 0:00:01\n",
      "     -------                                  2.3/11.6 MB 21.0 MB/s eta 0:00:01\n",
      "     --------                                 2.4/11.6 MB 2.7 MB/s eta 0:00:04\n",
      "     ---------                                2.8/11.6 MB 3.0 MB/s eta 0:00:03\n",
      "     -----------                              3.4/11.6 MB 3.5 MB/s eta 0:00:03\n",
      "     -------------                            4.0/11.6 MB 4.0 MB/s eta 0:00:02\n",
      "     ----------------                         4.8/11.6 MB 4.5 MB/s eta 0:00:02\n",
      "     ------------------                       5.4/11.6 MB 4.9 MB/s eta 0:00:02\n",
      "     ------------------                       5.4/11.6 MB 4.9 MB/s eta 0:00:02\n",
      "     ------------------                       5.4/11.6 MB 4.9 MB/s eta 0:00:02\n",
      "     ------------------                       5.4/11.6 MB 4.9 MB/s eta 0:00:02\n",
      "     ------------------                       5.4/11.6 MB 4.9 MB/s eta 0:00:02\n",
      "     ------------------                       5.4/11.6 MB 4.9 MB/s eta 0:00:02\n",
      "     ------------------                       5.4/11.6 MB 4.9 MB/s eta 0:00:02\n",
      "     ------------------                       5.4/11.6 MB 4.9 MB/s eta 0:00:02\n",
      "     ------------------                       5.4/11.6 MB 4.9 MB/s eta 0:00:02\n",
      "     ------------------                       5.4/11.6 MB 4.9 MB/s eta 0:00:02\n",
      "     ------------------                       5.4/11.6 MB 4.9 MB/s eta 0:00:02\n",
      "     ------------------                       5.4/11.6 MB 4.9 MB/s eta 0:00:02\n",
      "     ------------------                       5.4/11.6 MB 4.9 MB/s eta 0:00:02\n",
      "     ------------------                       5.4/11.6 MB 4.9 MB/s eta 0:00:02\n",
      "     -------------------                      5.6/11.6 MB 3.2 MB/s eta 0:00:02\n",
      "     --------------------                     5.9/11.6 MB 3.2 MB/s eta 0:00:02\n",
      "     --------------------                     6.1/11.6 MB 3.3 MB/s eta 0:00:02\n",
      "     ----------------------                   6.5/11.6 MB 3.4 MB/s eta 0:00:02\n",
      "     -----------------------                  6.9/11.6 MB 3.5 MB/s eta 0:00:02\n",
      "     -------------------------                7.5/11.6 MB 3.7 MB/s eta 0:00:02\n",
      "     --------------------------               7.8/11.6 MB 3.8 MB/s eta 0:00:02\n",
      "     ---------------------------              8.1/11.6 MB 3.9 MB/s eta 0:00:01\n",
      "     -----------------------------            8.5/11.6 MB 4.0 MB/s eta 0:00:01\n",
      "     ------------------------------           9.0/11.6 MB 4.1 MB/s eta 0:00:01\n",
      "     --------------------------------         9.4/11.6 MB 4.2 MB/s eta 0:00:01\n",
      "     --------------------------------         9.4/11.6 MB 4.2 MB/s eta 0:00:01\n",
      "     --------------------------------         9.4/11.6 MB 4.2 MB/s eta 0:00:01\n",
      "     --------------------------------         9.4/11.6 MB 4.2 MB/s eta 0:00:01\n",
      "     --------------------------------         9.4/11.6 MB 4.2 MB/s eta 0:00:01\n",
      "     --------------------------------         9.5/11.6 MB 3.8 MB/s eta 0:00:01\n",
      "     ---------------------------------        9.8/11.6 MB 3.9 MB/s eta 0:00:01\n",
      "     -----------------------------------      10.2/11.6 MB 4.0 MB/s eta 0:00:01\n",
      "     -------------------------------------    10.8/11.6 MB 4.0 MB/s eta 0:00:01\n",
      "     ---------------------------------------  11.4/11.6 MB 3.9 MB/s eta 0:00:01\n",
      "     ---------------------------------------  11.6/11.6 MB 3.9 MB/s eta 0:00:01\n",
      "     ---------------------------------------  11.6/11.6 MB 3.9 MB/s eta 0:00:01\n",
      "     ---------------------------------------  11.6/11.6 MB 3.9 MB/s eta 0:00:01\n",
      "     ---------------------------------------- 11.6/11.6 MB 3.7 MB/s eta 0:00:00\n",
      "Requirement already satisfied: numpy<2,>=1.23.2 in c:\\python311\\lib\\site-packages (from pandas) (1.26.4)\n",
      "Requirement already satisfied: python-dateutil>=2.8.2 in c:\\python311\\lib\\site-packages (from pandas) (2.8.2)\n",
      "Collecting pytz>=2020.1 (from pandas)\n",
      "  Downloading pytz-2024.1-py2.py3-none-any.whl (505 kB)\n",
      "                                              0.0/505.5 kB ? eta -:--:--\n",
      "     ------------------------------------- 505.5/505.5 kB 10.8 MB/s eta 0:00:00\n",
      "Collecting tzdata>=2022.7 (from pandas)\n",
      "  Downloading tzdata-2024.1-py2.py3-none-any.whl (345 kB)\n",
      "                                              0.0/345.4 kB ? eta -:--:--\n",
      "     ------------------------------------- 345.4/345.4 kB 20.9 MB/s eta 0:00:00\n",
      "Requirement already satisfied: six>=1.5 in c:\\python311\\lib\\site-packages (from python-dateutil>=2.8.2->pandas) (1.16.0)\n",
      "Installing collected packages: pytz, tzdata, pandas\n",
      "Successfully installed pandas-2.2.1 pytz-2024.1 tzdata-2024.1\n",
      "\n"
     ]
    },
    {
     "name": "stderr",
     "output_type": "stream",
     "text": [
      "\n",
      "[notice] A new release of pip is available: 23.1.2 -> 24.0\n",
      "[notice] To update, run: python.exe -m pip install --upgrade pip\n"
     ]
    }
   ],
   "source": [
    "pip install pandas"
   ]
  },
  {
   "cell_type": "code",
   "execution_count": 6,
   "metadata": {},
   "outputs": [],
   "source": [
    "dados = {'Nome': ['Alice', 'Bob', 'Charlie', 'David', 'Emilly'],\n",
    "         'Idade': [25, 30, 35, 40, 45],\n",
    "         'Salário': [5000, 6000, 7000, 8000, 9000]}"
   ]
  },
  {
   "cell_type": "code",
   "execution_count": 19,
   "metadata": {},
   "outputs": [
    {
     "data": {
      "text/html": [
       "<div>\n",
       "<style scoped>\n",
       "    .dataframe tbody tr th:only-of-type {\n",
       "        vertical-align: middle;\n",
       "    }\n",
       "\n",
       "    .dataframe tbody tr th {\n",
       "        vertical-align: top;\n",
       "    }\n",
       "\n",
       "    .dataframe thead th {\n",
       "        text-align: right;\n",
       "    }\n",
       "</style>\n",
       "<table border=\"1\" class=\"dataframe\">\n",
       "  <thead>\n",
       "    <tr style=\"text-align: right;\">\n",
       "      <th></th>\n",
       "      <th>Nome</th>\n",
       "      <th>Idade</th>\n",
       "      <th>Salário</th>\n",
       "    </tr>\n",
       "  </thead>\n",
       "  <tbody>\n",
       "    <tr>\n",
       "      <th>0</th>\n",
       "      <td>Alice</td>\n",
       "      <td>25</td>\n",
       "      <td>5000</td>\n",
       "    </tr>\n",
       "    <tr>\n",
       "      <th>1</th>\n",
       "      <td>Bob</td>\n",
       "      <td>30</td>\n",
       "      <td>6000</td>\n",
       "    </tr>\n",
       "    <tr>\n",
       "      <th>2</th>\n",
       "      <td>Charlie</td>\n",
       "      <td>35</td>\n",
       "      <td>7000</td>\n",
       "    </tr>\n",
       "    <tr>\n",
       "      <th>3</th>\n",
       "      <td>David</td>\n",
       "      <td>40</td>\n",
       "      <td>8000</td>\n",
       "    </tr>\n",
       "    <tr>\n",
       "      <th>4</th>\n",
       "      <td>Emilly</td>\n",
       "      <td>45</td>\n",
       "      <td>9000</td>\n",
       "    </tr>\n",
       "  </tbody>\n",
       "</table>\n",
       "</div>"
      ],
      "text/plain": [
       "      Nome  Idade  Salário\n",
       "0    Alice     25     5000\n",
       "1      Bob     30     6000\n",
       "2  Charlie     35     7000\n",
       "3    David     40     8000\n",
       "4   Emilly     45     9000"
      ]
     },
     "execution_count": 19,
     "metadata": {},
     "output_type": "execute_result"
    }
   ],
   "source": [
    "import pandas as pd\n",
    "\n",
    "df = pd.DataFrame(dados)\n",
    "df"
   ]
  },
  {
   "cell_type": "code",
   "execution_count": 18,
   "metadata": {},
   "outputs": [
    {
     "name": "stdout",
     "output_type": "stream",
     "text": [
      "Nome: Alice -Idade: 25\n",
      "Nome: Bob -Idade: 30\n",
      "Nome: Charlie -Idade: 35\n",
      "Nome: David -Idade: 40\n",
      "Nome: Emilly -Idade: 45\n"
     ]
    }
   ],
   "source": [
    "# Estrutura de repetição - Ex.1\n",
    "\n",
    "i = 0\n",
    "\n",
    "while i < len(df):\n",
    "    print(\"Nome:\", df['Nome'][i], \"-Idade:\", df['Idade'][i])\n",
    "    i+= 1\n"
   ]
  },
  {
   "cell_type": "code",
   "execution_count": 22,
   "metadata": {},
   "outputs": [
    {
     "name": "stdout",
     "output_type": "stream",
     "text": [
      "Nome       Charlie\n",
      "Idade           35\n",
      "Salário       7000\n",
      "Name: 2, dtype: object\n",
      "Nome       David\n",
      "Idade         40\n",
      "Salário     8000\n",
      "Name: 3, dtype: object\n",
      "Nome       Emilly\n",
      "Idade          45\n",
      "Salário      9000\n",
      "Name: 4, dtype: object\n"
     ]
    }
   ],
   "source": [
    "# Estrutura de repetição - Ex.2\n",
    "\n",
    "i = 0 \n",
    "while i < len(df):\n",
    "    if df['Salário'][i] > 6000:\n",
    "        print(df.iloc[i])\n",
    "    i += 1"
   ]
  },
  {
   "cell_type": "code",
   "execution_count": 23,
   "metadata": {},
   "outputs": [
    {
     "name": "stdout",
     "output_type": "stream",
     "text": [
      "Salário 5000\n",
      "Salário 6000\n",
      "Salário 7000\n",
      "Salário 8000\n",
      "Salário 9000\n"
     ]
    }
   ],
   "source": [
    "# Estrutura de repetição - Ex.3\n",
    "\n",
    "for salario in df['Salário']:\n",
    "    print(\"Salário\", salario)"
   ]
  },
  {
   "cell_type": "code",
   "execution_count": 26,
   "metadata": {},
   "outputs": [
    {
     "name": "stdout",
     "output_type": "stream",
     "text": [
      "A média de Idade : 35.0\n",
      "A média de Salário : 7000.0\n"
     ]
    }
   ],
   "source": [
    "# Estrutura de repetição - Ex.4\n",
    "\n",
    "for coluna in df.select_dtypes(include = ['int', 'float']):\n",
    "    media = df[coluna].mean()\n",
    "    print(\"A média de\", coluna, \":\", media)"
   ]
  },
  {
   "cell_type": "code",
   "execution_count": 32,
   "metadata": {},
   "outputs": [
    {
     "name": "stdout",
     "output_type": "stream",
     "text": [
      "Contagem de valores únicos em Nome : Nome\n",
      "Alice      2\n",
      "Charlie    2\n",
      "David      1\n",
      "Name: count, dtype: int64\n",
      "Contagem de valores únicos em Carros : Carros\n",
      "Ford    3\n",
      "GM      2\n",
      "Name: count, dtype: int64\n"
     ]
    }
   ],
   "source": [
    "# Estrutura de repetição - Ex.5\n",
    "\n",
    "dados = {'Nome': ['Alice', 'Alice', 'Charlie', 'David', 'Charlie'],\n",
    "         'Carros': ['GM', 'GM', 'Ford', 'Ford', 'Ford'],\n",
    "         'Salário': [5000, 6000, 7000, 8000, 9000]}\n",
    "\n",
    "df = pd.DataFrame(dados)\n",
    "\n",
    "for coluna in df.select_dtypes(include = ['object']):\n",
    "    contagem_valores = df[coluna].value_counts()\n",
    "    print(\"Contagem de valores únicos em\", coluna, \":\", contagem_valores )"
   ]
  },
  {
   "cell_type": "code",
   "execution_count": 35,
   "metadata": {},
   "outputs": [
    {
     "name": "stdout",
     "output_type": "stream",
     "text": [
      "Nome\n",
      "Alice      2\n",
      "Charlie    2\n",
      "David      1\n",
      "Name: count, dtype: int64\n",
      "Carros\n",
      "Ford    3\n",
      "GM      2\n",
      "Name: count, dtype: int64\n"
     ]
    }
   ],
   "source": [
    "print(df['Nome'].value_counts())\n",
    "print(df['Carros'].value_counts())"
   ]
  },
  {
   "cell_type": "code",
   "execution_count": 47,
   "metadata": {},
   "outputs": [
    {
     "data": {
      "text/html": [
       "<div>\n",
       "<style scoped>\n",
       "    .dataframe tbody tr th:only-of-type {\n",
       "        vertical-align: middle;\n",
       "    }\n",
       "\n",
       "    .dataframe tbody tr th {\n",
       "        vertical-align: top;\n",
       "    }\n",
       "\n",
       "    .dataframe thead th {\n",
       "        text-align: right;\n",
       "    }\n",
       "</style>\n",
       "<table border=\"1\" class=\"dataframe\">\n",
       "  <thead>\n",
       "    <tr style=\"text-align: right;\">\n",
       "      <th></th>\n",
       "      <th>Nome</th>\n",
       "      <th>Idade</th>\n",
       "      <th>Salário</th>\n",
       "    </tr>\n",
       "  </thead>\n",
       "  <tbody>\n",
       "    <tr>\n",
       "      <th>0</th>\n",
       "      <td>Alice</td>\n",
       "      <td>25</td>\n",
       "      <td>5000</td>\n",
       "    </tr>\n",
       "    <tr>\n",
       "      <th>1</th>\n",
       "      <td>Bob</td>\n",
       "      <td>30</td>\n",
       "      <td>6000</td>\n",
       "    </tr>\n",
       "    <tr>\n",
       "      <th>2</th>\n",
       "      <td>Charlie</td>\n",
       "      <td>35</td>\n",
       "      <td>7000</td>\n",
       "    </tr>\n",
       "    <tr>\n",
       "      <th>3</th>\n",
       "      <td>David</td>\n",
       "      <td>40</td>\n",
       "      <td>8000</td>\n",
       "    </tr>\n",
       "    <tr>\n",
       "      <th>4</th>\n",
       "      <td>Emilly</td>\n",
       "      <td>45</td>\n",
       "      <td>9000</td>\n",
       "    </tr>\n",
       "  </tbody>\n",
       "</table>\n",
       "</div>"
      ],
      "text/plain": [
       "      Nome  Idade  Salário\n",
       "0    Alice     25     5000\n",
       "1      Bob     30     6000\n",
       "2  Charlie     35     7000\n",
       "3    David     40     8000\n",
       "4   Emilly     45     9000"
      ]
     },
     "execution_count": 47,
     "metadata": {},
     "output_type": "execute_result"
    }
   ],
   "source": [
    "# Estrutura de repetição - Ex.6\n",
    "\n",
    "#Utilizar o while para calcular estatísticas descritivas de colunas numéricas, mas interrompendo\n",
    "# loop quando um determinado critério é atingido.\n",
    "\n",
    "dados = {'Nome': ['Alice', 'Bob', 'Charlie', 'David', 'Emilly'],\n",
    "         'Idade': [25, 30, 35, 40, 45],\n",
    "         'Salário': [5000, 6000, 7000, 8000, 9000]}\n",
    "\n",
    "df = pd.DataFrame(dados)\n",
    "df"
   ]
  },
  {
   "cell_type": "code",
   "execution_count": 43,
   "metadata": {},
   "outputs": [
    {
     "name": "stdout",
     "output_type": "stream",
     "text": [
      "A média salários é: 5000.0\n",
      "5000.0\n",
      "A média salários é: 5500.0\n",
      "5500.0\n",
      "A média salários é: 6000.0\n",
      "6000.0\n",
      "A média salários é: 6500.0\n",
      "6500.0\n",
      "A média salários é: 7000.0\n",
      "7000.0\n"
     ]
    }
   ],
   "source": [
    "# Média Móvel\n",
    "\n",
    "soma_salarios = 0\n",
    "contador = 0\n",
    "i = 0\n",
    "\n",
    "while i < len(df):\n",
    "    soma_salarios += df['Salário'][i]\n",
    "    contador += 1\n",
    "    media_salarios = soma_salarios / contador\n",
    "    print(\"A média salários é:\", media_salarios)\n",
    "    if media_salarios > 7000:\n",
    "        break\n",
    "    print(media_salarios)\n",
    "    i += 1"
   ]
  },
  {
   "cell_type": "code",
   "execution_count": 50,
   "metadata": {},
   "outputs": [
    {
     "name": "stdout",
     "output_type": "stream",
     "text": [
      "[500.0, 600.0, 700.0, 800.0, 900.0]\n"
     ]
    }
   ],
   "source": [
    "# Calcular bonus para o funcionário usando função def - Ex. 7\n",
    "# Crie um programa para calcular bonus de 10% para os funcionários, mas mostre o bônus para \n",
    "# cada funcionário.\n",
    "\n",
    "def calcula_bonus(salario):\n",
    "    return salario * 0.1\n",
    "\n",
    "bonus = []\n",
    "\n",
    "for indice, linha in df.iterrows():\n",
    "    bonus.append(calcula_bonus(linha['Salário']))\n",
    "\n",
    "print(bonus)"
   ]
  },
  {
   "cell_type": "code",
   "execution_count": 62,
   "metadata": {},
   "outputs": [
    {
     "data": {
      "text/plain": [
       "{'media_idade': [35.0], 'media_salario': [7000.0]}"
      ]
     },
     "execution_count": 62,
     "metadata": {},
     "output_type": "execute_result"
    }
   ],
   "source": [
    "# Calcule a média Idade e Salário e retorne apenas um \n",
    "# dataframe contendo as duas informações - Ex. 8\n",
    "\n",
    "media_idade = df['Idade'].mean()\n",
    "media_salario = df['Salário'].mean()\n",
    "\n",
    "df_final = {'media_idade': [media_idade],\n",
    "            'media_salario': [media_salario]}"
   ]
  },
  {
   "cell_type": "code",
   "execution_count": 65,
   "metadata": {},
   "outputs": [
    {
     "data": {
      "text/html": [
       "<div>\n",
       "<style scoped>\n",
       "    .dataframe tbody tr th:only-of-type {\n",
       "        vertical-align: middle;\n",
       "    }\n",
       "\n",
       "    .dataframe tbody tr th {\n",
       "        vertical-align: top;\n",
       "    }\n",
       "\n",
       "    .dataframe thead th {\n",
       "        text-align: right;\n",
       "    }\n",
       "</style>\n",
       "<table border=\"1\" class=\"dataframe\">\n",
       "  <thead>\n",
       "    <tr style=\"text-align: right;\">\n",
       "      <th></th>\n",
       "      <th>media_idade</th>\n",
       "      <th>media_salario</th>\n",
       "    </tr>\n",
       "  </thead>\n",
       "  <tbody>\n",
       "    <tr>\n",
       "      <th>0</th>\n",
       "      <td>35.0</td>\n",
       "      <td>7000.0</td>\n",
       "    </tr>\n",
       "  </tbody>\n",
       "</table>\n",
       "</div>"
      ],
      "text/plain": [
       "   media_idade  media_salario\n",
       "0         35.0         7000.0"
      ]
     },
     "execution_count": 65,
     "metadata": {},
     "output_type": "execute_result"
    }
   ],
   "source": [
    "df = pd.DataFrame(df_final)\n"
   ]
  },
  {
   "cell_type": "code",
   "execution_count": 67,
   "metadata": {},
   "outputs": [],
   "source": [
    "dados = {'Nome': ['Alice', 'Bob', 'Charlie', 'David', 'Emilly'],\n",
    "         'Idade': [25, 30, 35, 40, 45],\n",
    "         'Salário': [5000, 6000, 7000, 8000, 9000]}\n",
    "\n",
    "df = pd.DataFrame(dados)\n",
    "\n",
    "var_1 = df[['Idade']]\n",
    "var_2 = df[['Salário']]"
   ]
  },
  {
   "cell_type": "code",
   "execution_count": 70,
   "metadata": {},
   "outputs": [
    {
     "data": {
      "text/html": [
       "<div>\n",
       "<style scoped>\n",
       "    .dataframe tbody tr th:only-of-type {\n",
       "        vertical-align: middle;\n",
       "    }\n",
       "\n",
       "    .dataframe tbody tr th {\n",
       "        vertical-align: top;\n",
       "    }\n",
       "\n",
       "    .dataframe thead th {\n",
       "        text-align: right;\n",
       "    }\n",
       "</style>\n",
       "<table border=\"1\" class=\"dataframe\">\n",
       "  <thead>\n",
       "    <tr style=\"text-align: right;\">\n",
       "      <th></th>\n",
       "      <th>Idade</th>\n",
       "      <th>Salário</th>\n",
       "    </tr>\n",
       "  </thead>\n",
       "  <tbody>\n",
       "    <tr>\n",
       "      <th>0</th>\n",
       "      <td>25</td>\n",
       "      <td>5000</td>\n",
       "    </tr>\n",
       "    <tr>\n",
       "      <th>1</th>\n",
       "      <td>30</td>\n",
       "      <td>6000</td>\n",
       "    </tr>\n",
       "    <tr>\n",
       "      <th>2</th>\n",
       "      <td>35</td>\n",
       "      <td>7000</td>\n",
       "    </tr>\n",
       "    <tr>\n",
       "      <th>3</th>\n",
       "      <td>40</td>\n",
       "      <td>8000</td>\n",
       "    </tr>\n",
       "    <tr>\n",
       "      <th>4</th>\n",
       "      <td>45</td>\n",
       "      <td>9000</td>\n",
       "    </tr>\n",
       "  </tbody>\n",
       "</table>\n",
       "</div>"
      ],
      "text/plain": [
       "   Idade  Salário\n",
       "0     25     5000\n",
       "1     30     6000\n",
       "2     35     7000\n",
       "3     40     8000\n",
       "4     45     9000"
      ]
     },
     "execution_count": 70,
     "metadata": {},
     "output_type": "execute_result"
    }
   ],
   "source": [
    "df_concat = pd.concat([var_1, var_2], axis=1)\n",
    "df_concat"
   ]
  }
 ],
 "metadata": {
  "kernelspec": {
   "display_name": "Python 3",
   "language": "python",
   "name": "python3"
  },
  "language_info": {
   "codemirror_mode": {
    "name": "ipython",
    "version": 3
   },
   "file_extension": ".py",
   "mimetype": "text/x-python",
   "name": "python",
   "nbconvert_exporter": "python",
   "pygments_lexer": "ipython3",
   "version": "3.11.4"
  },
  "orig_nbformat": 4
 },
 "nbformat": 4,
 "nbformat_minor": 2
}
