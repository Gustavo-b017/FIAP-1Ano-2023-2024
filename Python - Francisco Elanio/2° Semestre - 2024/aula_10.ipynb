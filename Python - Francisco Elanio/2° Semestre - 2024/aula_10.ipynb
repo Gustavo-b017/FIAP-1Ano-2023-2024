{
 "cells": [
  {
   "cell_type": "code",
   "execution_count": 3,
   "metadata": {},
   "outputs": [],
   "source": [
    "import pandas as pd"
   ]
  },
  {
   "cell_type": "code",
   "execution_count": 4,
   "metadata": {},
   "outputs": [
    {
     "data": {
      "text/html": [
       "<div>\n",
       "<style scoped>\n",
       "    .dataframe tbody tr th:only-of-type {\n",
       "        vertical-align: middle;\n",
       "    }\n",
       "\n",
       "    .dataframe tbody tr th {\n",
       "        vertical-align: top;\n",
       "    }\n",
       "\n",
       "    .dataframe thead th {\n",
       "        text-align: right;\n",
       "    }\n",
       "</style>\n",
       "<table border=\"1\" class=\"dataframe\">\n",
       "  <thead>\n",
       "    <tr style=\"text-align: right;\">\n",
       "      <th></th>\n",
       "      <th>A</th>\n",
       "      <th>B</th>\n",
       "      <th>C</th>\n",
       "    </tr>\n",
       "  </thead>\n",
       "  <tbody>\n",
       "    <tr>\n",
       "      <th>0</th>\n",
       "      <td>4</td>\n",
       "      <td>9</td>\n",
       "      <td>2</td>\n",
       "    </tr>\n",
       "    <tr>\n",
       "      <th>1</th>\n",
       "      <td>4</td>\n",
       "      <td>9</td>\n",
       "      <td>2</td>\n",
       "    </tr>\n",
       "    <tr>\n",
       "      <th>2</th>\n",
       "      <td>4</td>\n",
       "      <td>9</td>\n",
       "      <td>2</td>\n",
       "    </tr>\n",
       "    <tr>\n",
       "      <th>3</th>\n",
       "      <td>4</td>\n",
       "      <td>9</td>\n",
       "      <td>2</td>\n",
       "    </tr>\n",
       "  </tbody>\n",
       "</table>\n",
       "</div>"
      ],
      "text/plain": [
       "   A  B  C\n",
       "0  4  9  2\n",
       "1  4  9  2\n",
       "2  4  9  2\n",
       "3  4  9  2"
      ]
     },
     "execution_count": 4,
     "metadata": {},
     "output_type": "execute_result"
    }
   ],
   "source": [
    "df = pd.DataFrame([[4, 9, 2]] * 4, columns=['A', 'B', 'C'])\n",
    "df"
   ]
  },
  {
   "cell_type": "code",
   "execution_count": 7,
   "metadata": {},
   "outputs": [
    {
     "data": {
      "text/plain": [
       "A    16\n",
       "B    36\n",
       "C     8\n",
       "dtype: int64"
      ]
     },
     "execution_count": 7,
     "metadata": {},
     "output_type": "execute_result"
    }
   ],
   "source": [
    "# Raiz quadrada\n",
    "import numpy as np\n",
    "\n",
    "raiz_quadrada = df.apply(np.sqrt, axis = 1)\n",
    "\n",
    "soma_linha = df.apply(np.sum, axis = 1)\n",
    "soma_coluna = df.apply(np.sum, axis = 0)\n",
    "soma_coluna"
   ]
  },
  {
   "cell_type": "code",
   "execution_count": 9,
   "metadata": {},
   "outputs": [
    {
     "data": {
      "text/html": [
       "<div>\n",
       "<style scoped>\n",
       "    .dataframe tbody tr th:only-of-type {\n",
       "        vertical-align: middle;\n",
       "    }\n",
       "\n",
       "    .dataframe tbody tr th {\n",
       "        vertical-align: top;\n",
       "    }\n",
       "\n",
       "    .dataframe thead th {\n",
       "        text-align: right;\n",
       "    }\n",
       "</style>\n",
       "<table border=\"1\" class=\"dataframe\">\n",
       "  <thead>\n",
       "    <tr style=\"text-align: right;\">\n",
       "      <th></th>\n",
       "      <th>A</th>\n",
       "      <th>B</th>\n",
       "      <th>C</th>\n",
       "      <th>D</th>\n",
       "    </tr>\n",
       "  </thead>\n",
       "  <tbody>\n",
       "    <tr>\n",
       "      <th>0</th>\n",
       "      <td>4</td>\n",
       "      <td>9</td>\n",
       "      <td>2</td>\n",
       "      <td>4</td>\n",
       "    </tr>\n",
       "    <tr>\n",
       "      <th>1</th>\n",
       "      <td>4</td>\n",
       "      <td>9</td>\n",
       "      <td>2</td>\n",
       "      <td>4</td>\n",
       "    </tr>\n",
       "    <tr>\n",
       "      <th>2</th>\n",
       "      <td>4</td>\n",
       "      <td>9</td>\n",
       "      <td>2</td>\n",
       "      <td>4</td>\n",
       "    </tr>\n",
       "    <tr>\n",
       "      <th>3</th>\n",
       "      <td>4</td>\n",
       "      <td>9</td>\n",
       "      <td>2</td>\n",
       "      <td>4</td>\n",
       "    </tr>\n",
       "  </tbody>\n",
       "</table>\n",
       "</div>"
      ],
      "text/plain": [
       "   A  B  C  D\n",
       "0  4  9  2  4\n",
       "1  4  9  2  4\n",
       "2  4  9  2  4\n",
       "3  4  9  2  4"
      ]
     },
     "execution_count": 9,
     "metadata": {},
     "output_type": "execute_result"
    }
   ],
   "source": [
    "# Função apply com lambda\n",
    "\n",
    "df['D'] = df['C'].apply(lambda x: x*2)\n",
    "df"
   ]
  },
  {
   "cell_type": "code",
   "execution_count": 13,
   "metadata": {},
   "outputs": [
    {
     "data": {
      "text/plain": [
       "0    13\n",
       "1    13\n",
       "2    13\n",
       "3    13\n",
       "dtype: int64"
      ]
     },
     "execution_count": 13,
     "metadata": {},
     "output_type": "execute_result"
    }
   ],
   "source": [
    "# somar colunas e linhas\n",
    "\n",
    "resultado = df.apply(lambda row: row['A'] + row['B'], axis = 1)\n",
    "resultado"
   ]
  },
  {
   "cell_type": "code",
   "execution_count": 14,
   "metadata": {},
   "outputs": [
    {
     "data": {
      "text/html": [
       "<div>\n",
       "<style scoped>\n",
       "    .dataframe tbody tr th:only-of-type {\n",
       "        vertical-align: middle;\n",
       "    }\n",
       "\n",
       "    .dataframe tbody tr th {\n",
       "        vertical-align: top;\n",
       "    }\n",
       "\n",
       "    .dataframe thead th {\n",
       "        text-align: right;\n",
       "    }\n",
       "</style>\n",
       "<table border=\"1\" class=\"dataframe\">\n",
       "  <thead>\n",
       "    <tr style=\"text-align: right;\">\n",
       "      <th></th>\n",
       "      <th>A</th>\n",
       "      <th>B</th>\n",
       "    </tr>\n",
       "  </thead>\n",
       "  <tbody>\n",
       "    <tr>\n",
       "      <th>0</th>\n",
       "      <td>6</td>\n",
       "      <td>23</td>\n",
       "    </tr>\n",
       "    <tr>\n",
       "      <th>1</th>\n",
       "      <td>5</td>\n",
       "      <td>20</td>\n",
       "    </tr>\n",
       "    <tr>\n",
       "      <th>2</th>\n",
       "      <td>8</td>\n",
       "      <td>5</td>\n",
       "    </tr>\n",
       "    <tr>\n",
       "      <th>3</th>\n",
       "      <td>11</td>\n",
       "      <td>30</td>\n",
       "    </tr>\n",
       "  </tbody>\n",
       "</table>\n",
       "</div>"
      ],
      "text/plain": [
       "    A   B\n",
       "0   6  23\n",
       "1   5  20\n",
       "2   8   5\n",
       "3  11  30"
      ]
     },
     "execution_count": 14,
     "metadata": {},
     "output_type": "execute_result"
    }
   ],
   "source": [
    "# Calcular a média, mediana, min, max\n",
    "\n",
    "df = pd.DataFrame({\n",
    "    'A': [6, 5, 8, 11],\n",
    "    'B': [23, 20, 5, 30]})\n",
    "df "
   ]
  },
  {
   "cell_type": "code",
   "execution_count": 18,
   "metadata": {},
   "outputs": [
    {
     "data": {
      "text/plain": [
       "19.5"
      ]
     },
     "execution_count": 18,
     "metadata": {},
     "output_type": "execute_result"
    }
   ],
   "source": [
    "resultado_media_a = df['A'].apply(lambda x: x).mean()\n",
    "resultado_media_b = df['B'].apply(lambda x: x).mean()\n",
    "resultado_media_b"
   ]
  },
  {
   "cell_type": "code",
   "execution_count": 21,
   "metadata": {},
   "outputs": [
    {
     "data": {
      "text/html": [
       "<div>\n",
       "<style scoped>\n",
       "    .dataframe tbody tr th:only-of-type {\n",
       "        vertical-align: middle;\n",
       "    }\n",
       "\n",
       "    .dataframe tbody tr th {\n",
       "        vertical-align: top;\n",
       "    }\n",
       "\n",
       "    .dataframe thead th {\n",
       "        text-align: right;\n",
       "    }\n",
       "</style>\n",
       "<table border=\"1\" class=\"dataframe\">\n",
       "  <thead>\n",
       "    <tr style=\"text-align: right;\">\n",
       "      <th></th>\n",
       "      <th>Nome</th>\n",
       "    </tr>\n",
       "  </thead>\n",
       "  <tbody>\n",
       "    <tr>\n",
       "      <th>0</th>\n",
       "      <td>JoãoSilva</td>\n",
       "    </tr>\n",
       "    <tr>\n",
       "      <th>1</th>\n",
       "      <td>AnaSilva</td>\n",
       "    </tr>\n",
       "    <tr>\n",
       "      <th>2</th>\n",
       "      <td>JoãoSilva</td>\n",
       "    </tr>\n",
       "    <tr>\n",
       "      <th>3</th>\n",
       "      <td>PedroSilva</td>\n",
       "    </tr>\n",
       "  </tbody>\n",
       "</table>\n",
       "</div>"
      ],
      "text/plain": [
       "         Nome\n",
       "0   JoãoSilva\n",
       "1    AnaSilva\n",
       "2   JoãoSilva\n",
       "3  PedroSilva"
      ]
     },
     "execution_count": 21,
     "metadata": {},
     "output_type": "execute_result"
    }
   ],
   "source": [
    "df_nomes = pd.DataFrame({\n",
    "    'Nome': ['João', 'Ana', 'João', 'Pedro']\n",
    "})\n",
    "\n",
    "df_nomes['Nome'] = df_nomes['Nome'].apply(lambda x: x + 'Silva')\n",
    "df_nomes"
   ]
  },
  {
   "cell_type": "code",
   "execution_count": 68,
   "metadata": {},
   "outputs": [
    {
     "data": {
      "text/plain": [
       "Tipo da Falha\n",
       "No Failure                  9652\n",
       "Heat Dissipation Failure     112\n",
       "Power Failure                 95\n",
       "Overstrain Failure            78\n",
       "Tool Wear Failure             45\n",
       "Random Failures               18\n",
       "Name: count, dtype: int64"
      ]
     },
     "execution_count": 68,
     "metadata": {},
     "output_type": "execute_result"
    }
   ],
   "source": [
    "# Dataset sobre falhas em máquinas\n",
    "\n",
    "dados = pd.read_csv(r'c:\\Users\\logonpflocal\\Downloads\\manutencao_preditiva.csv')\n",
    "dados['Tipo da Falha'].value_counts()"
   ]
  },
  {
   "cell_type": "code",
   "execution_count": null,
   "metadata": {},
   "outputs": [],
   "source": [
    "\"\"\"Exercícios/Exemplos\n",
    "\n",
    "1 - Crie um programa para somar as variáveis temperatura do ar e processo e retorne uma nova variável\n",
    "2 - Faça a soma das temperturas do ar e do processo apenas para as máquinas do tipo M.\n",
    "3 - Mostre qual a média, mediana, min e max das temperaturas quando houver apenas máquinas do tipo H. \n",
    "\"\"\"\n"
   ]
  },
  {
   "cell_type": "code",
   "execution_count": 30,
   "metadata": {},
   "outputs": [
    {
     "name": "stderr",
     "output_type": "stream",
     "text": [
      "C:\\Users\\logonpflocal\\AppData\\Local\\Temp\\ipykernel_9336\\2068571737.py:4: SettingWithCopyWarning: \n",
      "A value is trying to be set on a copy of a slice from a DataFrame.\n",
      "Try using .loc[row_indexer,col_indexer] = value instead\n",
      "\n",
      "See the caveats in the documentation: https://pandas.pydata.org/pandas-docs/stable/user_guide/indexing.html#returning-a-view-versus-a-copy\n",
      "  df_tipo_m['soma_temperatura'] = df_tipo_m.apply(lambda linha: linha['Temperatura Ar [K]'] + linha['Temperatura Processo [K]'], axis = 1)\n"
     ]
    }
   ],
   "source": [
    "# Exercício 2\n",
    "df_tipo_m = dados[dados['Tipo'] == 'M']\n",
    "\n",
    "df_tipo_m['soma_temperatura'] = df_tipo_m.apply(lambda linha: linha['Temperatura Ar [K]'] + linha['Temperatura Processo [K]'], axis = 1)"
   ]
  },
  {
   "cell_type": "code",
   "execution_count": 38,
   "metadata": {},
   "outputs": [
    {
     "name": "stdout",
     "output_type": "stream",
     "text": [
      "Média da Temperatura do ar: 299.866999002991\n",
      "Média Temperatura do Processo: 309.9257228315055\n",
      "Temperatura minima do ar: 295.5\n",
      "Temperatura minima do Processo: 305.9\n",
      "Temperatura máxima do ar: 304.2\n",
      "Temperatura máxima do Processo: 313.5\n",
      "Temperatura mediana do ar: 299.8\n",
      "Temperatura mediana do Processo: 309.9\n"
     ]
    }
   ],
   "source": [
    "#resultado_media_a = df['A'].apply(lambda x: x).mean()\n",
    "\n",
    "\n",
    "# Exercício 2\n",
    "df_tipo_h = dados[dados['Tipo'] == 'H']\n",
    "\n",
    "print('Média da Temperatura do ar:', df_tipo_h['Temperatura Ar [K]'].apply(lambda x: x).mean())\n",
    "print('Média Temperatura do Processo:', df_tipo_h['Temperatura Processo [K]'].apply(lambda x: x).mean())\n",
    "\n",
    "print('Temperatura minima do ar:', df_tipo_h['Temperatura Ar [K]'].apply(lambda x: x).min())\n",
    "print('Temperatura minima do Processo:', df_tipo_h['Temperatura Processo [K]'].apply(lambda x: x).min())\n",
    "\n",
    "print('Temperatura máxima do ar:', df_tipo_h['Temperatura Ar [K]'].apply(lambda x: x).max())\n",
    "print('Temperatura máxima do Processo:', df_tipo_h['Temperatura Processo [K]'].apply(lambda x: x).max())\n",
    "\n",
    "print('Temperatura mediana do ar:', df_tipo_h['Temperatura Ar [K]'].apply(lambda x: x).median())\n",
    "print('Temperatura mediana do Processo:', df_tipo_h['Temperatura Processo [K]'].apply(lambda x: x).median())\n"
   ]
  },
  {
   "cell_type": "code",
   "execution_count": 46,
   "metadata": {},
   "outputs": [
    {
     "name": "stdout",
     "output_type": "stream",
     "text": [
      "Collecting matplotlib\n",
      "  Downloading matplotlib-3.8.4-cp311-cp311-win_amd64.whl (7.7 MB)\n",
      "                                              0.0/7.7 MB ? eta -:--:--\n",
      "     -                                        0.3/7.7 MB 5.7 MB/s eta 0:00:02\n",
      "     ---                                      0.6/7.7 MB 6.4 MB/s eta 0:00:02\n",
      "     ----                                     0.9/7.7 MB 6.1 MB/s eta 0:00:02\n",
      "     -----                                    1.1/7.7 MB 6.0 MB/s eta 0:00:02\n",
      "     ------                                   1.3/7.7 MB 5.9 MB/s eta 0:00:02\n",
      "     -------                                  1.4/7.7 MB 5.0 MB/s eta 0:00:02\n",
      "     -------                                  1.5/7.7 MB 4.7 MB/s eta 0:00:02\n",
      "     --------                                 1.5/7.7 MB 4.3 MB/s eta 0:00:02\n",
      "     --------                                 1.6/7.7 MB 4.0 MB/s eta 0:00:02\n",
      "     --------                                 1.6/7.7 MB 3.5 MB/s eta 0:00:02\n",
      "     --------                                 1.6/7.7 MB 3.3 MB/s eta 0:00:02\n",
      "     ---------                                1.7/7.7 MB 3.1 MB/s eta 0:00:02\n",
      "     ---------                                1.8/7.7 MB 3.1 MB/s eta 0:00:02\n",
      "     ----------                               1.9/7.7 MB 3.0 MB/s eta 0:00:02\n",
      "     ----------                               2.1/7.7 MB 3.0 MB/s eta 0:00:02\n",
      "     -----------                              2.2/7.7 MB 2.9 MB/s eta 0:00:02\n",
      "     -----------                              2.3/7.7 MB 2.9 MB/s eta 0:00:02\n",
      "     ------------                             2.3/7.7 MB 2.8 MB/s eta 0:00:02\n",
      "     ------------                             2.5/7.7 MB 2.8 MB/s eta 0:00:02\n",
      "     -------------                            2.6/7.7 MB 2.8 MB/s eta 0:00:02\n",
      "     -------------                            2.7/7.7 MB 2.7 MB/s eta 0:00:02\n",
      "     --------------                           2.7/7.7 MB 2.7 MB/s eta 0:00:02\n",
      "     --------------                           2.8/7.7 MB 2.7 MB/s eta 0:00:02\n",
      "     --------------                           2.8/7.7 MB 2.6 MB/s eta 0:00:02\n",
      "     --------------                           2.9/7.7 MB 2.5 MB/s eta 0:00:02\n",
      "     --------------                           2.9/7.7 MB 2.4 MB/s eta 0:00:02\n",
      "     ---------------                          2.9/7.7 MB 2.4 MB/s eta 0:00:03\n",
      "     ---------------                          2.9/7.7 MB 2.3 MB/s eta 0:00:03\n",
      "     ---------------                          3.0/7.7 MB 2.2 MB/s eta 0:00:03\n",
      "     ---------------                          3.0/7.7 MB 2.2 MB/s eta 0:00:03\n",
      "     ----------------                         3.1/7.7 MB 2.2 MB/s eta 0:00:03\n",
      "     ----------------                         3.1/7.7 MB 2.1 MB/s eta 0:00:03\n",
      "     ----------------                         3.2/7.7 MB 2.1 MB/s eta 0:00:03\n",
      "     ----------------                         3.2/7.7 MB 2.1 MB/s eta 0:00:03\n",
      "     ----------------                         3.2/7.7 MB 2.0 MB/s eta 0:00:03\n",
      "     ----------------                         3.2/7.7 MB 2.0 MB/s eta 0:00:03\n",
      "     ----------------                         3.2/7.7 MB 2.0 MB/s eta 0:00:03\n",
      "     -----------------                        3.3/7.7 MB 1.9 MB/s eta 0:00:03\n",
      "     -----------------                        3.3/7.7 MB 1.8 MB/s eta 0:00:03\n",
      "     -----------------                        3.3/7.7 MB 1.8 MB/s eta 0:00:03\n",
      "     -----------------                        3.4/7.7 MB 1.8 MB/s eta 0:00:03\n",
      "     ------------------                       3.5/7.7 MB 1.8 MB/s eta 0:00:03\n",
      "     ------------------                       3.5/7.7 MB 1.8 MB/s eta 0:00:03\n",
      "     ------------------                       3.6/7.7 MB 1.8 MB/s eta 0:00:03\n",
      "     -------------------                      3.7/7.7 MB 1.8 MB/s eta 0:00:03\n",
      "     -------------------                      3.8/7.7 MB 1.8 MB/s eta 0:00:03\n",
      "     --------------------                     3.9/7.7 MB 1.8 MB/s eta 0:00:03\n",
      "     --------------------                     3.9/7.7 MB 1.8 MB/s eta 0:00:03\n",
      "     --------------------                     3.9/7.7 MB 1.7 MB/s eta 0:00:03\n",
      "     --------------------                     3.9/7.7 MB 1.7 MB/s eta 0:00:03\n",
      "     --------------------                     4.0/7.7 MB 1.7 MB/s eta 0:00:03\n",
      "     ---------------------                    4.0/7.7 MB 1.7 MB/s eta 0:00:03\n",
      "     ---------------------                    4.1/7.7 MB 1.7 MB/s eta 0:00:03\n",
      "     ---------------------                    4.1/7.7 MB 1.6 MB/s eta 0:00:03\n",
      "     ---------------------                    4.1/7.7 MB 1.6 MB/s eta 0:00:03\n",
      "     ---------------------                    4.2/7.7 MB 1.6 MB/s eta 0:00:03\n",
      "     ---------------------                    4.2/7.7 MB 1.6 MB/s eta 0:00:03\n",
      "     ----------------------                   4.2/7.7 MB 1.6 MB/s eta 0:00:03\n",
      "     ----------------------                   4.3/7.7 MB 1.6 MB/s eta 0:00:03\n",
      "     ----------------------                   4.3/7.7 MB 1.6 MB/s eta 0:00:03\n",
      "     ----------------------                   4.4/7.7 MB 1.5 MB/s eta 0:00:03\n",
      "     -----------------------                  4.4/7.7 MB 1.5 MB/s eta 0:00:03\n",
      "     -----------------------                  4.5/7.7 MB 1.5 MB/s eta 0:00:03\n",
      "     -----------------------                  4.5/7.7 MB 1.5 MB/s eta 0:00:03\n",
      "     -----------------------                  4.5/7.7 MB 1.5 MB/s eta 0:00:03\n",
      "     -----------------------                  4.5/7.7 MB 1.5 MB/s eta 0:00:03\n",
      "     -----------------------                  4.6/7.7 MB 1.5 MB/s eta 0:00:03\n",
      "     ------------------------                 4.6/7.7 MB 1.5 MB/s eta 0:00:03\n",
      "     ------------------------                 4.7/7.7 MB 1.5 MB/s eta 0:00:02\n",
      "     ------------------------                 4.8/7.7 MB 1.5 MB/s eta 0:00:02\n",
      "     -------------------------                4.8/7.7 MB 1.5 MB/s eta 0:00:02\n",
      "     -------------------------                4.8/7.7 MB 1.4 MB/s eta 0:00:02\n",
      "     -------------------------                4.9/7.7 MB 1.4 MB/s eta 0:00:02\n",
      "     -------------------------                4.9/7.7 MB 1.4 MB/s eta 0:00:02\n",
      "     -------------------------                5.0/7.7 MB 1.4 MB/s eta 0:00:02\n",
      "     --------------------------               5.0/7.7 MB 1.4 MB/s eta 0:00:02\n",
      "     --------------------------               5.0/7.7 MB 1.4 MB/s eta 0:00:02\n",
      "     --------------------------               5.0/7.7 MB 1.4 MB/s eta 0:00:02\n",
      "     --------------------------               5.1/7.7 MB 1.4 MB/s eta 0:00:02\n",
      "     --------------------------               5.1/7.7 MB 1.4 MB/s eta 0:00:02\n",
      "     --------------------------               5.2/7.7 MB 1.4 MB/s eta 0:00:02\n",
      "     ---------------------------              5.2/7.7 MB 1.4 MB/s eta 0:00:02\n",
      "     ---------------------------              5.2/7.7 MB 1.4 MB/s eta 0:00:02\n",
      "     ---------------------------              5.3/7.7 MB 1.4 MB/s eta 0:00:02\n",
      "     ---------------------------              5.3/7.7 MB 1.3 MB/s eta 0:00:02\n",
      "     ---------------------------              5.4/7.7 MB 1.3 MB/s eta 0:00:02\n",
      "     ----------------------------             5.4/7.7 MB 1.3 MB/s eta 0:00:02\n",
      "     ----------------------------             5.4/7.7 MB 1.3 MB/s eta 0:00:02\n",
      "     ----------------------------             5.5/7.7 MB 1.3 MB/s eta 0:00:02\n",
      "     ----------------------------             5.5/7.7 MB 1.3 MB/s eta 0:00:02\n",
      "     ----------------------------             5.5/7.7 MB 1.3 MB/s eta 0:00:02\n",
      "     -----------------------------            5.6/7.7 MB 1.3 MB/s eta 0:00:02\n",
      "     -----------------------------            5.6/7.7 MB 1.3 MB/s eta 0:00:02\n",
      "     -----------------------------            5.6/7.7 MB 1.3 MB/s eta 0:00:02\n",
      "     -----------------------------            5.7/7.7 MB 1.3 MB/s eta 0:00:02\n",
      "     -----------------------------            5.7/7.7 MB 1.3 MB/s eta 0:00:02\n",
      "     ------------------------------           5.8/7.7 MB 1.3 MB/s eta 0:00:02\n",
      "     -------------------------------          6.0/7.7 MB 1.3 MB/s eta 0:00:02\n",
      "     --------------------------------         6.2/7.7 MB 1.3 MB/s eta 0:00:02\n",
      "     --------------------------------         6.3/7.7 MB 1.4 MB/s eta 0:00:01\n",
      "     ---------------------------------        6.4/7.7 MB 1.4 MB/s eta 0:00:01\n",
      "     ---------------------------------        6.4/7.7 MB 1.4 MB/s eta 0:00:01\n",
      "     ---------------------------------        6.4/7.7 MB 1.3 MB/s eta 0:00:01\n",
      "     ---------------------------------        6.5/7.7 MB 1.3 MB/s eta 0:00:01\n",
      "     ----------------------------------       6.6/7.7 MB 1.4 MB/s eta 0:00:01\n",
      "     ----------------------------------       6.7/7.7 MB 1.4 MB/s eta 0:00:01\n",
      "     -----------------------------------      6.7/7.7 MB 1.4 MB/s eta 0:00:01\n",
      "     -----------------------------------      6.8/7.7 MB 1.4 MB/s eta 0:00:01\n",
      "     ------------------------------------     6.9/7.7 MB 1.4 MB/s eta 0:00:01\n",
      "     ------------------------------------     7.0/7.7 MB 1.4 MB/s eta 0:00:01\n",
      "     ------------------------------------     7.0/7.7 MB 1.4 MB/s eta 0:00:01\n",
      "     ------------------------------------     7.0/7.7 MB 1.3 MB/s eta 0:00:01\n",
      "     ------------------------------------     7.0/7.7 MB 1.3 MB/s eta 0:00:01\n",
      "     ------------------------------------     7.0/7.7 MB 1.3 MB/s eta 0:00:01\n",
      "     ------------------------------------     7.0/7.7 MB 1.3 MB/s eta 0:00:01\n",
      "     ------------------------------------     7.1/7.7 MB 1.3 MB/s eta 0:00:01\n",
      "     -------------------------------------    7.1/7.7 MB 1.3 MB/s eta 0:00:01\n",
      "     -------------------------------------    7.2/7.7 MB 1.3 MB/s eta 0:00:01\n",
      "     -------------------------------------    7.2/7.7 MB 1.3 MB/s eta 0:00:01\n",
      "     --------------------------------------   7.4/7.7 MB 1.3 MB/s eta 0:00:01\n",
      "     --------------------------------------   7.4/7.7 MB 1.3 MB/s eta 0:00:01\n",
      "     --------------------------------------   7.5/7.7 MB 1.3 MB/s eta 0:00:01\n",
      "     ---------------------------------------  7.5/7.7 MB 1.3 MB/s eta 0:00:01\n",
      "     ---------------------------------------  7.6/7.7 MB 1.3 MB/s eta 0:00:01\n",
      "     ---------------------------------------  7.6/7.7 MB 1.3 MB/s eta 0:00:01\n",
      "     ---------------------------------------  7.6/7.7 MB 1.3 MB/s eta 0:00:01\n",
      "     ---------------------------------------- 7.7/7.7 MB 1.3 MB/s eta 0:00:00\n",
      "Collecting contourpy>=1.0.1 (from matplotlib)\n",
      "  Downloading contourpy-1.2.1-cp311-cp311-win_amd64.whl (188 kB)\n",
      "                                              0.0/188.2 kB ? eta -:--:--\n",
      "     --------                              41.0/188.2 kB 991.0 kB/s eta 0:00:01\n",
      "     ----------------------                 112.6/188.2 kB 1.3 MB/s eta 0:00:01\n",
      "     ---------------------------------      163.8/188.2 kB 1.2 MB/s eta 0:00:01\n",
      "     -------------------------------------  184.3/188.2 kB 1.0 MB/s eta 0:00:01\n",
      "     -------------------------------------- 188.2/188.2 kB 1.0 MB/s eta 0:00:00\n",
      "Collecting cycler>=0.10 (from matplotlib)\n",
      "  Downloading cycler-0.12.1-py3-none-any.whl (8.3 kB)\n",
      "Collecting fonttools>=4.22.0 (from matplotlib)\n",
      "  Downloading fonttools-4.51.0-cp311-cp311-win_amd64.whl (2.2 MB)\n",
      "                                              0.0/2.2 MB ? eta -:--:--\n",
      "                                              0.0/2.2 MB 660.6 kB/s eta 0:00:04\n",
      "                                              0.0/2.2 MB 326.8 kB/s eta 0:00:07\n",
      "     -                                        0.1/2.2 MB 573.4 kB/s eta 0:00:04\n",
      "     --                                       0.1/2.2 MB 774.0 kB/s eta 0:00:03\n",
      "     ----                                     0.2/2.2 MB 1.1 MB/s eta 0:00:02\n",
      "     ------                                   0.4/2.2 MB 1.3 MB/s eta 0:00:02\n",
      "     --------                                 0.5/2.2 MB 1.3 MB/s eta 0:00:02\n",
      "     ---------                                0.5/2.2 MB 1.4 MB/s eta 0:00:02\n",
      "     ----------                               0.6/2.2 MB 1.3 MB/s eta 0:00:02\n",
      "     ----------                               0.6/2.2 MB 1.3 MB/s eta 0:00:02\n",
      "     -----------                              0.6/2.2 MB 1.3 MB/s eta 0:00:02\n",
      "     ------------                             0.7/2.2 MB 1.3 MB/s eta 0:00:02\n",
      "     --------------                           0.8/2.2 MB 1.3 MB/s eta 0:00:02\n",
      "     ----------------                         0.9/2.2 MB 1.4 MB/s eta 0:00:01\n",
      "     -----------------                        1.0/2.2 MB 1.4 MB/s eta 0:00:01\n",
      "     ------------------                       1.0/2.2 MB 1.4 MB/s eta 0:00:01\n",
      "     -------------------                      1.1/2.2 MB 1.3 MB/s eta 0:00:01\n",
      "     -------------------                      1.1/2.2 MB 1.3 MB/s eta 0:00:01\n",
      "     --------------------                     1.1/2.2 MB 1.3 MB/s eta 0:00:01\n",
      "     ---------------------                    1.2/2.2 MB 1.2 MB/s eta 0:00:01\n",
      "     ----------------------                   1.2/2.2 MB 1.2 MB/s eta 0:00:01\n",
      "     -----------------------                  1.3/2.2 MB 1.2 MB/s eta 0:00:01\n",
      "     ------------------------                 1.3/2.2 MB 1.2 MB/s eta 0:00:01\n",
      "     -------------------------                1.4/2.2 MB 1.2 MB/s eta 0:00:01\n",
      "     -------------------------                1.4/2.2 MB 1.2 MB/s eta 0:00:01\n",
      "     --------------------------               1.4/2.2 MB 1.2 MB/s eta 0:00:01\n",
      "     ---------------------------              1.5/2.2 MB 1.2 MB/s eta 0:00:01\n",
      "     ----------------------------             1.6/2.2 MB 1.2 MB/s eta 0:00:01\n",
      "     ------------------------------           1.6/2.2 MB 1.2 MB/s eta 0:00:01\n",
      "     --------------------------------         1.8/2.2 MB 1.3 MB/s eta 0:00:01\n",
      "     --------------------------------         1.8/2.2 MB 1.2 MB/s eta 0:00:01\n",
      "     --------------------------------         1.8/2.2 MB 1.2 MB/s eta 0:00:01\n",
      "     ---------------------------------        1.8/2.2 MB 1.2 MB/s eta 0:00:01\n",
      "     ----------------------------------       1.9/2.2 MB 1.2 MB/s eta 0:00:01\n",
      "     -----------------------------------      1.9/2.2 MB 1.2 MB/s eta 0:00:01\n",
      "     ------------------------------------     2.0/2.2 MB 1.2 MB/s eta 0:00:01\n",
      "     -------------------------------------    2.0/2.2 MB 1.2 MB/s eta 0:00:01\n",
      "     -------------------------------------    2.1/2.2 MB 1.2 MB/s eta 0:00:01\n",
      "     --------------------------------------   2.1/2.2 MB 1.2 MB/s eta 0:00:01\n",
      "     --------------------------------------   2.1/2.2 MB 1.1 MB/s eta 0:00:01\n",
      "     ---------------------------------------- 2.2/2.2 MB 1.1 MB/s eta 0:00:00\n",
      "Collecting kiwisolver>=1.3.1 (from matplotlib)\n",
      "  Downloading kiwisolver-1.4.5-cp311-cp311-win_amd64.whl (56 kB)\n",
      "                                              0.0/56.1 kB ? eta -:--:--\n",
      "     -----------------------------            41.0/56.1 kB 1.9 MB/s eta 0:00:01\n",
      "     -----------------------------            41.0/56.1 kB 1.9 MB/s eta 0:00:01\n",
      "     -----------------------------            41.0/56.1 kB 1.9 MB/s eta 0:00:01\n",
      "     -----------------------------            41.0/56.1 kB 1.9 MB/s eta 0:00:01\n",
      "     -----------------------------            41.0/56.1 kB 1.9 MB/s eta 0:00:01\n",
      "     -------------------------------------- 56.1/56.1 kB 183.5 kB/s eta 0:00:00\n",
      "Requirement already satisfied: numpy>=1.21 in c:\\python311\\lib\\site-packages (from matplotlib) (1.26.4)\n",
      "Requirement already satisfied: packaging>=20.0 in c:\\python311\\lib\\site-packages (from matplotlib) (23.1)\n",
      "Collecting pillow>=8 (from matplotlib)\n",
      "  Downloading pillow-10.3.0-cp311-cp311-win_amd64.whl (2.5 MB)\n",
      "                                              0.0/2.5 MB ? eta -:--:--\n",
      "                                              0.1/2.5 MB 1.7 MB/s eta 0:00:02\n",
      "     --                                       0.2/2.5 MB 1.8 MB/s eta 0:00:02\n",
      "     -----                                    0.4/2.5 MB 2.8 MB/s eta 0:00:01\n",
      "     -------                                  0.5/2.5 MB 2.6 MB/s eta 0:00:01\n",
      "     --------                                 0.5/2.5 MB 2.4 MB/s eta 0:00:01\n",
      "     ---------                                0.6/2.5 MB 2.3 MB/s eta 0:00:01\n",
      "     -----------                              0.7/2.5 MB 2.3 MB/s eta 0:00:01\n",
      "     -----------                              0.8/2.5 MB 2.1 MB/s eta 0:00:01\n",
      "     -------------                            0.9/2.5 MB 2.1 MB/s eta 0:00:01\n",
      "     --------------                           0.9/2.5 MB 2.1 MB/s eta 0:00:01\n",
      "     ----------------                         1.0/2.5 MB 2.1 MB/s eta 0:00:01\n",
      "     ------------------                       1.2/2.5 MB 2.2 MB/s eta 0:00:01\n",
      "     ---------------------                    1.4/2.5 MB 2.3 MB/s eta 0:00:01\n",
      "     ----------------------                   1.4/2.5 MB 2.2 MB/s eta 0:00:01\n",
      "     -----------------------                  1.5/2.5 MB 2.2 MB/s eta 0:00:01\n",
      "     -----------------------                  1.5/2.5 MB 2.1 MB/s eta 0:00:01\n",
      "     ------------------------                 1.6/2.5 MB 2.0 MB/s eta 0:00:01\n",
      "     -------------------------                1.6/2.5 MB 2.0 MB/s eta 0:00:01\n",
      "     ---------------------------              1.8/2.5 MB 2.0 MB/s eta 0:00:01\n",
      "     ----------------------------             1.8/2.5 MB 2.0 MB/s eta 0:00:01\n",
      "     ------------------------------           1.9/2.5 MB 2.0 MB/s eta 0:00:01\n",
      "     -------------------------------          2.0/2.5 MB 1.9 MB/s eta 0:00:01\n",
      "     ---------------------------------        2.1/2.5 MB 2.0 MB/s eta 0:00:01\n",
      "     ----------------------------------       2.2/2.5 MB 2.0 MB/s eta 0:00:01\n",
      "     ------------------------------------     2.3/2.5 MB 2.0 MB/s eta 0:00:01\n",
      "     --------------------------------------   2.4/2.5 MB 2.0 MB/s eta 0:00:01\n",
      "     --------------------------------------   2.5/2.5 MB 2.0 MB/s eta 0:00:01\n",
      "     ---------------------------------------  2.5/2.5 MB 2.0 MB/s eta 0:00:01\n",
      "     ---------------------------------------- 2.5/2.5 MB 1.9 MB/s eta 0:00:00\n",
      "Collecting pyparsing>=2.3.1 (from matplotlib)\n",
      "  Downloading pyparsing-3.1.2-py3-none-any.whl (103 kB)\n",
      "                                              0.0/103.2 kB ? eta -:--:--\n",
      "     -------------------------------------- 103.2/103.2 kB 6.2 MB/s eta 0:00:00\n",
      "Requirement already satisfied: python-dateutil>=2.7 in c:\\python311\\lib\\site-packages (from matplotlib) (2.8.2)\n",
      "Requirement already satisfied: six>=1.5 in c:\\python311\\lib\\site-packages (from python-dateutil>=2.7->matplotlib) (1.16.0)\n",
      "Installing collected packages: pyparsing, pillow, kiwisolver, fonttools, cycler, contourpy, matplotlib\n",
      "Successfully installed contourpy-1.2.1 cycler-0.12.1 fonttools-4.51.0 kiwisolver-1.4.5 matplotlib-3.8.4 pillow-10.3.0 pyparsing-3.1.2\n",
      "Note: you may need to restart the kernel to use updated packages.\n"
     ]
    },
    {
     "name": "stderr",
     "output_type": "stream",
     "text": [
      "\n",
      "[notice] A new release of pip is available: 23.1.2 -> 24.0\n",
      "[notice] To update, run: python.exe -m pip install --upgrade pip\n"
     ]
    }
   ],
   "source": [
    "pip install matplotlib"
   ]
  },
  {
   "cell_type": "code",
   "execution_count": 49,
   "metadata": {},
   "outputs": [
    {
     "data": {
      "image/png": "[encoded data removed]",
      "text/plain": [
       "<Figure size 640x480 with 1 Axes>"
      ]
     },
     "metadata": {},
     "output_type": "display_data"
    }
   ],
   "source": [
    "# Normalização de dados\n",
    "\n",
    "import matplotlib.pyplot as plt\n",
    "\n",
    "df_sample = pd.DataFrame({\n",
    "    'A': [6, 5, 8, 11],\n",
    "    'B': [100, 122, 156, 189],\n",
    "    'indice': [1, 2, 3, 4]\n",
    "})\n",
    "\n",
    "x = df_sample['indice']\n",
    "y1 = df_sample['A']\n",
    "y2 = df_sample['B']\n",
    "\n",
    "plt.plot(x, y1, x, y2)\n",
    "plt.show()"
   ]
  },
  {
   "cell_type": "code",
   "execution_count": 50,
   "metadata": {},
   "outputs": [
    {
     "data": {
      "text/html": [
       "<div>\n",
       "<style scoped>\n",
       "    .dataframe tbody tr th:only-of-type {\n",
       "        vertical-align: middle;\n",
       "    }\n",
       "\n",
       "    .dataframe tbody tr th {\n",
       "        vertical-align: top;\n",
       "    }\n",
       "\n",
       "    .dataframe thead th {\n",
       "        text-align: right;\n",
       "    }\n",
       "</style>\n",
       "<table border=\"1\" class=\"dataframe\">\n",
       "  <thead>\n",
       "    <tr style=\"text-align: right;\">\n",
       "      <th></th>\n",
       "      <th>A</th>\n",
       "      <th>B</th>\n",
       "      <th>indice</th>\n",
       "    </tr>\n",
       "  </thead>\n",
       "  <tbody>\n",
       "    <tr>\n",
       "      <th>0</th>\n",
       "      <td>0.166667</td>\n",
       "      <td>0.000000</td>\n",
       "      <td>0.000000</td>\n",
       "    </tr>\n",
       "    <tr>\n",
       "      <th>1</th>\n",
       "      <td>0.000000</td>\n",
       "      <td>0.247191</td>\n",
       "      <td>0.333333</td>\n",
       "    </tr>\n",
       "    <tr>\n",
       "      <th>2</th>\n",
       "      <td>0.500000</td>\n",
       "      <td>0.629213</td>\n",
       "      <td>0.666667</td>\n",
       "    </tr>\n",
       "    <tr>\n",
       "      <th>3</th>\n",
       "      <td>1.000000</td>\n",
       "      <td>1.000000</td>\n",
       "      <td>1.000000</td>\n",
       "    </tr>\n",
       "  </tbody>\n",
       "</table>\n",
       "</div>"
      ],
      "text/plain": [
       "          A         B    indice\n",
       "0  0.166667  0.000000  0.000000\n",
       "1  0.000000  0.247191  0.333333\n",
       "2  0.500000  0.629213  0.666667\n",
       "3  1.000000  1.000000  1.000000"
      ]
     },
     "execution_count": 50,
     "metadata": {},
     "output_type": "execute_result"
    }
   ],
   "source": [
    "df_normalizado = df_sample.apply(lambda x: (x - x.min()) / (x.max() - x.min()))\n",
    "df_normalizado"
   ]
  },
  {
   "cell_type": "code",
   "execution_count": 56,
   "metadata": {},
   "outputs": [
    {
     "data": {
      "text/html": [
       "<div>\n",
       "<style scoped>\n",
       "    .dataframe tbody tr th:only-of-type {\n",
       "        vertical-align: middle;\n",
       "    }\n",
       "\n",
       "    .dataframe tbody tr th {\n",
       "        vertical-align: top;\n",
       "    }\n",
       "\n",
       "    .dataframe thead th {\n",
       "        text-align: right;\n",
       "    }\n",
       "</style>\n",
       "<table border=\"1\" class=\"dataframe\">\n",
       "  <thead>\n",
       "    <tr style=\"text-align: right;\">\n",
       "      <th></th>\n",
       "      <th>Velocidade Rotacao [rpm]</th>\n",
       "    </tr>\n",
       "  </thead>\n",
       "  <tbody>\n",
       "    <tr>\n",
       "      <th>0</th>\n",
       "      <td>0.222934</td>\n",
       "    </tr>\n",
       "    <tr>\n",
       "      <th>1</th>\n",
       "      <td>0.139697</td>\n",
       "    </tr>\n",
       "    <tr>\n",
       "      <th>2</th>\n",
       "      <td>0.192084</td>\n",
       "    </tr>\n",
       "    <tr>\n",
       "      <th>3</th>\n",
       "      <td>0.154249</td>\n",
       "    </tr>\n",
       "    <tr>\n",
       "      <th>4</th>\n",
       "      <td>0.139697</td>\n",
       "    </tr>\n",
       "    <tr>\n",
       "      <th>...</th>\n",
       "      <td>...</td>\n",
       "    </tr>\n",
       "    <tr>\n",
       "      <th>9995</th>\n",
       "      <td>0.253783</td>\n",
       "    </tr>\n",
       "    <tr>\n",
       "      <th>9996</th>\n",
       "      <td>0.270081</td>\n",
       "    </tr>\n",
       "    <tr>\n",
       "      <th>9997</th>\n",
       "      <td>0.277648</td>\n",
       "    </tr>\n",
       "    <tr>\n",
       "      <th>9998</th>\n",
       "      <td>0.139697</td>\n",
       "    </tr>\n",
       "    <tr>\n",
       "      <th>9999</th>\n",
       "      <td>0.193248</td>\n",
       "    </tr>\n",
       "  </tbody>\n",
       "</table>\n",
       "<p>10000 rows × 1 columns</p>\n",
       "</div>"
      ],
      "text/plain": [
       "      Velocidade Rotacao [rpm]\n",
       "0                     0.222934\n",
       "1                     0.139697\n",
       "2                     0.192084\n",
       "3                     0.154249\n",
       "4                     0.139697\n",
       "...                        ...\n",
       "9995                  0.253783\n",
       "9996                  0.270081\n",
       "9997                  0.277648\n",
       "9998                  0.139697\n",
       "9999                  0.193248\n",
       "\n",
       "[10000 rows x 1 columns]"
      ]
     },
     "execution_count": 56,
     "metadata": {},
     "output_type": "execute_result"
    }
   ],
   "source": [
    "# Faça a normalização (0 a 1) apenas para variável Velocidade Rotacao [rpm]\n",
    "\n",
    "dados_vel_rot = dados[['Velocidade Rotacao [rpm]']]\n",
    "\n",
    "df_normalizado = dados_vel_rot.apply(lambda x: (x - x.min()) / (x.max() - x.min()))\n",
    "df_normalizado"
   ]
  },
  {
   "cell_type": "code",
   "execution_count": 71,
   "metadata": {},
   "outputs": [
    {
     "data": {
      "text/html": [
       "<div>\n",
       "<style scoped>\n",
       "    .dataframe tbody tr th:only-of-type {\n",
       "        vertical-align: middle;\n",
       "    }\n",
       "\n",
       "    .dataframe tbody tr th {\n",
       "        vertical-align: top;\n",
       "    }\n",
       "\n",
       "    .dataframe thead th {\n",
       "        text-align: right;\n",
       "    }\n",
       "</style>\n",
       "<table border=\"1\" class=\"dataframe\">\n",
       "  <thead>\n",
       "    <tr style=\"text-align: right;\">\n",
       "      <th></th>\n",
       "      <th>Texto</th>\n",
       "      <th>Verificacao_texto</th>\n",
       "    </tr>\n",
       "  </thead>\n",
       "  <tbody>\n",
       "    <tr>\n",
       "      <th>0</th>\n",
       "      <td>Ola</td>\n",
       "      <td>curto</td>\n",
       "    </tr>\n",
       "    <tr>\n",
       "      <th>1</th>\n",
       "      <td>mundo</td>\n",
       "      <td>curto</td>\n",
       "    </tr>\n",
       "    <tr>\n",
       "      <th>2</th>\n",
       "      <td>python</td>\n",
       "      <td>longo</td>\n",
       "    </tr>\n",
       "    <tr>\n",
       "      <th>3</th>\n",
       "      <td>pandas</td>\n",
       "      <td>longo</td>\n",
       "    </tr>\n",
       "  </tbody>\n",
       "</table>\n",
       "</div>"
      ],
      "text/plain": [
       "    Texto Verificacao_texto\n",
       "0     Ola             curto\n",
       "1   mundo             curto\n",
       "2  python             longo\n",
       "3  pandas             longo"
      ]
     },
     "execution_count": 71,
     "metadata": {},
     "output_type": "execute_result"
    }
   ],
   "source": [
    "# Aplicar apply para verificar comprimento de dados (strings)\n",
    "\n",
    "df = pd.DataFrame({\n",
    "    'Texto': ['Ola', 'mundo', 'python', 'pandas']\n",
    "})\n",
    "\n",
    "df['Verificacao_texto'] = df['Texto'].apply(lambda texto: 'curto' if len(texto) <= 5 else 'longo') \n",
    "df"
   ]
  },
  {
   "cell_type": "code",
   "execution_count": 72,
   "metadata": {},
   "outputs": [],
   "source": [
    "# Crie uma condição para inserir uma coluna chamada comprimento_texto e se o comprimento for maior do que 5, insira longo, caso contrário, curto.\n",
    "\n",
    "# Crie um programa para verificar o comprimento do texto na coluna Tipo da Falha. Após isso, insira uma nova coluna mostrando. Se comprimento menor ou igual a 10 - curto. Se comprimento maior que 10 e menor que 15 - médio. Se comprimento maior que 15 - longo.\n",
    "\n",
    "dados['contagem_letras'] = dados['Tipo da Falha'].apply(lambda x: 'curto' if len(x) <=10 else 'medio' if 10 < len(x) <= 15 else 'longo')\n"
   ]
  },
  {
   "cell_type": "code",
   "execution_count": 74,
   "metadata": {},
   "outputs": [
    {
     "data": {
      "text/plain": [
       "contagem_letras\n",
       "curto    9652\n",
       "longo     235\n",
       "medio     113\n",
       "Name: count, dtype: int64"
      ]
     },
     "execution_count": 74,
     "metadata": {},
     "output_type": "execute_result"
    }
   ],
   "source": [
    "dados['contagem_letras'].value_counts()"
   ]
  },
  {
   "cell_type": "code",
   "execution_count": 81,
   "metadata": {},
   "outputs": [
    {
     "data": {
      "text/html": [
       "<div>\n",
       "<style scoped>\n",
       "    .dataframe tbody tr th:only-of-type {\n",
       "        vertical-align: middle;\n",
       "    }\n",
       "\n",
       "    .dataframe tbody tr th {\n",
       "        vertical-align: top;\n",
       "    }\n",
       "\n",
       "    .dataframe thead th {\n",
       "        text-align: right;\n",
       "    }\n",
       "</style>\n",
       "<table border=\"1\" class=\"dataframe\">\n",
       "  <thead>\n",
       "    <tr style=\"text-align: right;\">\n",
       "      <th></th>\n",
       "      <th>Var_2</th>\n",
       "      <th>Var_3</th>\n",
       "    </tr>\n",
       "    <tr>\n",
       "      <th>Var_1</th>\n",
       "      <th></th>\n",
       "      <th></th>\n",
       "    </tr>\n",
       "  </thead>\n",
       "  <tbody>\n",
       "    <tr>\n",
       "      <th>A</th>\n",
       "      <td>99.600000</td>\n",
       "      <td>27.600000</td>\n",
       "    </tr>\n",
       "    <tr>\n",
       "      <th>B</th>\n",
       "      <td>60.333333</td>\n",
       "      <td>13.666667</td>\n",
       "    </tr>\n",
       "    <tr>\n",
       "      <th>C</th>\n",
       "      <td>56.500000</td>\n",
       "      <td>4.000000</td>\n",
       "    </tr>\n",
       "  </tbody>\n",
       "</table>\n",
       "</div>"
      ],
      "text/plain": [
       "           Var_2      Var_3\n",
       "Var_1                      \n",
       "A      99.600000  27.600000\n",
       "B      60.333333  13.666667\n",
       "C      56.500000   4.000000"
      ]
     },
     "execution_count": 81,
     "metadata": {},
     "output_type": "execute_result"
    }
   ],
   "source": [
    "# Utilizando groupby do pandas\n",
    "\n",
    "df_new = pd.DataFrame({\n",
    "    'Var_1': [\"A\", \"A\", \"B\", \"A\", \"C\", \"C\", \"A\", \"B\", \"A\", \"B\"],\n",
    "    'Var_2': [100, 122, 156, 189, 50, 63, 9, 15, 78, 10],\n",
    "    'Var_3': [10, 22, 16, 89, 5, 3, 9, 15, 8, 10],\n",
    "})\n",
    "\n",
    "agrupado_media = df_new.groupby('Var_1').mean()\n",
    "agrupado_media "
   ]
  },
  {
   "cell_type": "code",
   "execution_count": 78,
   "metadata": {},
   "outputs": [
    {
     "data": {
      "text/html": [
       "<div>\n",
       "<style scoped>\n",
       "    .dataframe tbody tr th:only-of-type {\n",
       "        vertical-align: middle;\n",
       "    }\n",
       "\n",
       "    .dataframe tbody tr th {\n",
       "        vertical-align: top;\n",
       "    }\n",
       "\n",
       "    .dataframe thead th {\n",
       "        text-align: right;\n",
       "    }\n",
       "</style>\n",
       "<table border=\"1\" class=\"dataframe\">\n",
       "  <thead>\n",
       "    <tr style=\"text-align: right;\">\n",
       "      <th></th>\n",
       "      <th>Var_1</th>\n",
       "      <th>Var_2</th>\n",
       "    </tr>\n",
       "  </thead>\n",
       "  <tbody>\n",
       "    <tr>\n",
       "      <th>0</th>\n",
       "      <td>A</td>\n",
       "      <td>99.600000</td>\n",
       "    </tr>\n",
       "    <tr>\n",
       "      <th>1</th>\n",
       "      <td>B</td>\n",
       "      <td>60.333333</td>\n",
       "    </tr>\n",
       "    <tr>\n",
       "      <th>2</th>\n",
       "      <td>C</td>\n",
       "      <td>56.500000</td>\n",
       "    </tr>\n",
       "  </tbody>\n",
       "</table>\n",
       "</div>"
      ],
      "text/plain": [
       "  Var_1      Var_2\n",
       "0     A  99.600000\n",
       "1     B  60.333333\n",
       "2     C  56.500000"
      ]
     },
     "execution_count": 78,
     "metadata": {},
     "output_type": "execute_result"
    }
   ],
   "source": [
    "agrupado_media = df_new.groupby('Var_1').mean().reset_index()\n",
    "agrupado_mediana = df_new.groupby('Var_1').median().reset_index()\n",
    "agrupado_min = df_new.groupby('Var_1').min().reset_index()\n",
    "agrupado_max = df_new.groupby('Var_1').max().reset_index()"
   ]
  },
  {
   "cell_type": "code",
   "execution_count": 82,
   "metadata": {},
   "outputs": [
    {
     "data": {
      "text/plain": [
       "Index(['UDI', 'ID Produto', 'Tipo', 'Temperatura Ar [K]',\n",
       "       'Temperatura Processo [K]', 'Velocidade Rotacao [rpm]', 'Torque [Nm]',\n",
       "       'Desgaste Ferramenta [min]', 'Alvo', 'Tipo da Falha',\n",
       "       'contagem_letras'],\n",
       "      dtype='object')"
      ]
     },
     "execution_count": 82,
     "metadata": {},
     "output_type": "execute_result"
    }
   ],
   "source": [
    "dados.columns"
   ]
  },
  {
   "cell_type": "code",
   "execution_count": 91,
   "metadata": {},
   "outputs": [],
   "source": [
    "# Crie um programa para agrupar os dados por tipo de máquina de retorne a média das colunas numéricas.\n",
    "\n",
    "df_filtrado = dados[['Tipo', 'Temperatura Ar [K]',\n",
    "       'Temperatura Processo [K]', 'Velocidade Rotacao [rpm]', 'Torque [Nm]',\n",
    "       'Desgaste Ferramenta [min]', 'Alvo']]\n",
    "\n",
    "# Crie um programa para agrupar os dados por tipo de máquina e por tipo de falha e retorne a média.\n",
    "\n",
    "df_new = pd.DataFrame({\n",
    "    'Var_1': [\"A\", \"A\", \"B\", \"A\", \"C\", \"C\", \"A\", \"B\", \"A\", \"B\"],\n",
    "    'Var_2': [\"X\", \"Y\", \"Y\", \"Y\", \"X\", \"Y\", \"X\", \"Y\", \"X\", \"X\"],\n",
    "    'Var_3': [10, 22, 16, 89, 5, 3, 9, 15, 8, 10]\n",
    "})"
   ]
  },
  {
   "cell_type": "code",
   "execution_count": 96,
   "metadata": {},
   "outputs": [
    {
     "data": {
      "text/plain": [
       "Index(['Var_1', 'Var_2', 'Var_3'], dtype='object')"
      ]
     },
     "execution_count": 96,
     "metadata": {},
     "output_type": "execute_result"
    }
   ],
   "source": [
    "df_new.columns"
   ]
  },
  {
   "cell_type": "code",
   "execution_count": 110,
   "metadata": {},
   "outputs": [],
   "source": [
    "colunas_numericas = dados.select_dtypes(include=['int', 'float']).columns\n",
    "colunas_nao_numericas = dados.select_dtypes(include=['object']).columns\n",
    "\n",
    "df_numericas = dados[colunas_numericas]\n",
    "\n",
    "df_nao_numericas = dados[colunas_nao_numericas]"
   ]
  },
  {
   "cell_type": "code",
   "execution_count": 111,
   "metadata": {},
   "outputs": [
    {
     "data": {
      "text/html": [
       "<div>\n",
       "<style scoped>\n",
       "    .dataframe tbody tr th:only-of-type {\n",
       "        vertical-align: middle;\n",
       "    }\n",
       "\n",
       "    .dataframe tbody tr th {\n",
       "        vertical-align: top;\n",
       "    }\n",
       "\n",
       "    .dataframe thead th {\n",
       "        text-align: right;\n",
       "    }\n",
       "</style>\n",
       "<table border=\"1\" class=\"dataframe\">\n",
       "  <thead>\n",
       "    <tr style=\"text-align: right;\">\n",
       "      <th></th>\n",
       "      <th>ID Produto</th>\n",
       "      <th>Tipo</th>\n",
       "      <th>Tipo da Falha</th>\n",
       "      <th>contagem_letras</th>\n",
       "    </tr>\n",
       "  </thead>\n",
       "  <tbody>\n",
       "    <tr>\n",
       "      <th>0</th>\n",
       "      <td>M14860</td>\n",
       "      <td>M</td>\n",
       "      <td>No Failure</td>\n",
       "      <td>curto</td>\n",
       "    </tr>\n",
       "    <tr>\n",
       "      <th>1</th>\n",
       "      <td>L47181</td>\n",
       "      <td>L</td>\n",
       "      <td>No Failure</td>\n",
       "      <td>curto</td>\n",
       "    </tr>\n",
       "    <tr>\n",
       "      <th>2</th>\n",
       "      <td>L47182</td>\n",
       "      <td>L</td>\n",
       "      <td>No Failure</td>\n",
       "      <td>curto</td>\n",
       "    </tr>\n",
       "    <tr>\n",
       "      <th>3</th>\n",
       "      <td>L47183</td>\n",
       "      <td>L</td>\n",
       "      <td>No Failure</td>\n",
       "      <td>curto</td>\n",
       "    </tr>\n",
       "    <tr>\n",
       "      <th>4</th>\n",
       "      <td>L47184</td>\n",
       "      <td>L</td>\n",
       "      <td>No Failure</td>\n",
       "      <td>curto</td>\n",
       "    </tr>\n",
       "    <tr>\n",
       "      <th>...</th>\n",
       "      <td>...</td>\n",
       "      <td>...</td>\n",
       "      <td>...</td>\n",
       "      <td>...</td>\n",
       "    </tr>\n",
       "    <tr>\n",
       "      <th>9995</th>\n",
       "      <td>M24855</td>\n",
       "      <td>M</td>\n",
       "      <td>No Failure</td>\n",
       "      <td>curto</td>\n",
       "    </tr>\n",
       "    <tr>\n",
       "      <th>9996</th>\n",
       "      <td>H39410</td>\n",
       "      <td>H</td>\n",
       "      <td>No Failure</td>\n",
       "      <td>curto</td>\n",
       "    </tr>\n",
       "    <tr>\n",
       "      <th>9997</th>\n",
       "      <td>M24857</td>\n",
       "      <td>M</td>\n",
       "      <td>No Failure</td>\n",
       "      <td>curto</td>\n",
       "    </tr>\n",
       "    <tr>\n",
       "      <th>9998</th>\n",
       "      <td>H39412</td>\n",
       "      <td>H</td>\n",
       "      <td>No Failure</td>\n",
       "      <td>curto</td>\n",
       "    </tr>\n",
       "    <tr>\n",
       "      <th>9999</th>\n",
       "      <td>M24859</td>\n",
       "      <td>M</td>\n",
       "      <td>No Failure</td>\n",
       "      <td>curto</td>\n",
       "    </tr>\n",
       "  </tbody>\n",
       "</table>\n",
       "<p>10000 rows × 4 columns</p>\n",
       "</div>"
      ],
      "text/plain": [
       "     ID Produto Tipo Tipo da Falha contagem_letras\n",
       "0        M14860    M    No Failure           curto\n",
       "1        L47181    L    No Failure           curto\n",
       "2        L47182    L    No Failure           curto\n",
       "3        L47183    L    No Failure           curto\n",
       "4        L47184    L    No Failure           curto\n",
       "...         ...  ...           ...             ...\n",
       "9995     M24855    M    No Failure           curto\n",
       "9996     H39410    H    No Failure           curto\n",
       "9997     M24857    M    No Failure           curto\n",
       "9998     H39412    H    No Failure           curto\n",
       "9999     M24859    M    No Failure           curto\n",
       "\n",
       "[10000 rows x 4 columns]"
      ]
     },
     "execution_count": 111,
     "metadata": {},
     "output_type": "execute_result"
    }
   ],
   "source": [
    "df_nao_numericas"
   ]
  },
  {
   "cell_type": "code",
   "execution_count": 99,
   "metadata": {},
   "outputs": [
    {
     "data": {
      "text/html": [
       "<div>\n",
       "<style scoped>\n",
       "    .dataframe tbody tr th:only-of-type {\n",
       "        vertical-align: middle;\n",
       "    }\n",
       "\n",
       "    .dataframe tbody tr th {\n",
       "        vertical-align: top;\n",
       "    }\n",
       "\n",
       "    .dataframe thead th {\n",
       "        text-align: right;\n",
       "    }\n",
       "</style>\n",
       "<table border=\"1\" class=\"dataframe\">\n",
       "  <thead>\n",
       "    <tr style=\"text-align: right;\">\n",
       "      <th></th>\n",
       "      <th></th>\n",
       "      <th>Valor</th>\n",
       "    </tr>\n",
       "    <tr>\n",
       "      <th>Categoria</th>\n",
       "      <th>Grupo</th>\n",
       "      <th></th>\n",
       "    </tr>\n",
       "  </thead>\n",
       "  <tbody>\n",
       "    <tr>\n",
       "      <th rowspan=\"2\" valign=\"top\">A</th>\n",
       "      <th>X</th>\n",
       "      <td>30.0</td>\n",
       "    </tr>\n",
       "    <tr>\n",
       "      <th>Y</th>\n",
       "      <td>30.0</td>\n",
       "    </tr>\n",
       "    <tr>\n",
       "      <th rowspan=\"2\" valign=\"top\">B</th>\n",
       "      <th>X</th>\n",
       "      <td>20.0</td>\n",
       "    </tr>\n",
       "    <tr>\n",
       "      <th>Y</th>\n",
       "      <td>50.0</td>\n",
       "    </tr>\n",
       "  </tbody>\n",
       "</table>\n",
       "</div>"
      ],
      "text/plain": [
       "                 Valor\n",
       "Categoria Grupo       \n",
       "A         X       30.0\n",
       "          Y       30.0\n",
       "B         X       20.0\n",
       "          Y       50.0"
      ]
     },
     "execution_count": 99,
     "metadata": {},
     "output_type": "execute_result"
    }
   ],
   "source": [
    "import pandas as pd\n",
    "\n",
    "data = {\n",
    "'Categoria': ['A', 'B', 'A', 'B', 'A', 'B'],\n",
    " 'Grupo': ['X', 'X', 'Y', 'Y', 'X', 'Y'],\n",
    " 'Valor': [10, 20, 30, 40, 50, 60]\n",
    "}\n",
    "df = pd.DataFrame(data)\n",
    "\n",
    "grouped = df.groupby(['Categoria', 'Grupo']).mean()\n",
    "grouped"
   ]
  },
  {
   "cell_type": "code",
   "execution_count": null,
   "metadata": {},
   "outputs": [],
   "source": [
    "output = dados['Tipo da Falha']"
   ]
  }
 ],
 "metadata": {
  "kernelspec": {
   "display_name": "Python 3",
   "language": "python",
   "name": "python3"
  },
  "language_info": {
   "codemirror_mode": {
    "name": "ipython",
    "version": 3
   },
   "file_extension": ".py",
   "mimetype": "text/x-python",
   "name": "python",
   "nbconvert_exporter": "python",
   "pygments_lexer": "ipython3",
   "version": "3.11.4"
  },
  "orig_nbformat": 4
 },
 "nbformat": 4,
 "nbformat_minor": 2
}
